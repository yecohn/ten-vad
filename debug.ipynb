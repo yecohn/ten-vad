{
 "cells": [
  {
   "cell_type": "code",
   "execution_count": 18,
   "metadata": {},
   "outputs": [
    {
     "data": {
      "text/plain": [
       "((1, 16, 1, 5), (1, 5, 16))"
      ]
     },
     "execution_count": 18,
     "metadata": {},
     "output_type": "execute_result"
    }
   ],
   "source": [
    "import pickle\n",
    "import onnxruntime as rt\n",
    "import onnx\n",
    "\n",
    "with open(\"pickle_input.pkl\", \"rb\") as f:\n",
    "    input_t = pickle.load(f)\n",
    "\n",
    "original_model_path = \"/home/yehoshua/projects/vad/ten-vad/infered_pytorch.onnx\"\n",
    "infered_model_path = \"/home/yehoshua/projects/vad/ten-vad/infer_model.onnx\"\n",
    "session1 = rt.InferenceSession(original_model_path, providers=['CPUExecutionProvider'])\n",
    "# print(input_t)\n",
    "input_name = session1.get_inputs()\n",
    "output1 = session1.run(None, input_t)\n",
    "\n",
    "session2 = rt.InferenceSession(infered_model_path, providers=['CPUExecutionProvider'])\n",
    "# print(input_t)\n",
    "input_name = session2.get_inputs()\n",
    "output2 = session2.run(None, input_t)\n",
    "\n",
    "\n",
    "len(output1), len(output2)\n",
    "output1[-1].shape, output2[-1].shape\n",
    "\n"
   ]
  },
  {
   "cell_type": "code",
   "execution_count": null,
   "metadata": {},
   "outputs": [],
   "source": [
    "original_model = onnx.load(original_model_path)\n"
   ]
  }
 ],
 "metadata": {
  "kernelspec": {
   "display_name": "Python 3",
   "language": "python",
   "name": "python3"
  },
  "language_info": {
   "codemirror_mode": {
    "name": "ipython",
    "version": 3
   },
   "file_extension": ".py",
   "mimetype": "text/x-python",
   "name": "python",
   "nbconvert_exporter": "python",
   "pygments_lexer": "ipython3",
   "version": "3.11.9"
  }
 },
 "nbformat": 4,
 "nbformat_minor": 2
}
