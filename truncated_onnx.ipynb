{
 "cells": [
  {
   "cell_type": "code",
   "execution_count": 21,
   "metadata": {},
   "outputs": [],
   "source": [
    "import onnx \n",
    "from onnx import shape_inference\n",
    "import onnxruntime  as rt\n",
    "import pickle"
   ]
  },
  {
   "cell_type": "code",
   "execution_count": 22,
   "metadata": {},
   "outputs": [],
   "source": [
    "model =  onnx.load(\"ten_vad_exported.onnx\")\n",
    "model = shape_inference.infer_shapes(model)"
   ]
  },
  {
   "cell_type": "code",
   "execution_count": 23,
   "metadata": {},
   "outputs": [],
   "source": [
    "new_outputs = []\n",
    "for val_info in model.graph.value_info:\n",
    "    new_outputs.append(val_info)\n",
    "    \n",
    "for o in new_outputs:\n",
    "    model.graph.output.append(o)\n",
    "\n",
    "onnx.save(model, \"debug_torch_model.onnx\")\n"
   ]
  },
  {
   "cell_type": "code",
   "execution_count": 24,
   "metadata": {},
   "outputs": [],
   "source": [
    "orig_model =  onnx.load(\"src/onnx_model/ten-vad.onnx\")\n",
    "orig_model = shape_inference.infer_shapes(orig_model)\n",
    "\n",
    "new_outputs = []\n",
    "for val_info in orig_model.graph.value_info:\n",
    "    new_outputs.append(val_info)\n",
    "    \n",
    "for o in new_outputs:\n",
    "    orig_model.graph.output.append(o)\n",
    "\n",
    "onnx.save(orig_model, \"debug_onnx_model.onnx\")"
   ]
  },
  {
   "cell_type": "code",
   "execution_count": 18,
   "metadata": {},
   "outputs": [
    {
     "data": {
      "text/plain": [
       "(1, 1, 1, 39)"
      ]
     },
     "execution_count": 18,
     "metadata": {},
     "output_type": "execute_result"
    }
   ],
   "source": [
    "model_name = \"debug_torch_model.onnx\"\n",
    "model = onnx.load(model_name)\n",
    "with open(\"pickle_input.pkl\", \"rb\") as f:\n",
    "    input_t = pickle.load(f)\n",
    "\n",
    "session = rt.InferenceSession(model_name, providers=['CPUExecutionProvider'])\n",
    "output_names = [ o.name for o in session.get_outputs()]\n",
    "raw_outputs = session.run(None, input_t)\n",
    "outputs_dict = dict(zip(output_names, raw_outputs))\n",
    "outputs_dict.keys()\n",
    "outputs_dict['/conv_dw/Conv_output_0'].shape\n"
   ]
  },
  {
   "cell_type": "code",
   "execution_count": null,
   "metadata": {},
   "outputs": [],
   "source": []
  }
 ],
 "metadata": {
  "kernelspec": {
   "display_name": "Python 3",
   "language": "python",
   "name": "python3"
  },
  "language_info": {
   "codemirror_mode": {
    "name": "ipython",
    "version": 3
   },
   "file_extension": ".py",
   "mimetype": "text/x-python",
   "name": "python",
   "nbconvert_exporter": "python",
   "pygments_lexer": "ipython3",
   "version": "3.11.9"
  }
 },
 "nbformat": 4,
 "nbformat_minor": 2
}
