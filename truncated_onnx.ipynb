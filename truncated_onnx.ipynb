{
 "cells": [
  {
   "cell_type": "code",
   "execution_count": 1,
   "metadata": {},
   "outputs": [],
   "source": [
    "import onnx \n",
    "from onnx import shape_inference\n",
    "import onnxruntime  as rt\n",
    "import pickle"
   ]
  },
  {
   "cell_type": "code",
   "execution_count": 2,
   "metadata": {},
   "outputs": [],
   "source": [
    "model =  onnx.load(\"ten_vad_exported.onnx\")\n",
    "model = shape_inference.infer_shapes(model)"
   ]
  },
  {
   "cell_type": "code",
   "execution_count": 3,
   "metadata": {},
   "outputs": [],
   "source": [
    "new_outputs = []\n",
    "for val_info in model.graph.value_info:\n",
    "    new_outputs.append(val_info)\n",
    "    \n",
    "for o in new_outputs:\n",
    "    model.graph.output.append(o)\n",
    "\n",
    "onnx.save(model, \"debug_torch_model.onnx\")\n"
   ]
  },
  {
   "cell_type": "code",
   "execution_count": 5,
   "metadata": {},
   "outputs": [],
   "source": [
    "orig_model =  onnx.load(\"src/onnx_model/ten-vad.onnx\")\n",
    "orig_model = shape_inference.infer_shapes(orig_model)\n",
    "new_outputs = []\n",
    "for val_info in orig_model.graph.value_info:\n",
    "    new_outputs.append(val_info)\n",
    "    \n",
    "for o in new_outputs:\n",
    "    orig_model.graph.output.append(o)\n",
    "\n",
    "onnx.save(orig_model, \"debug_onnx_model.onnx\")\n"
   ]
  },
  {
   "cell_type": "code",
   "execution_count": 24,
   "metadata": {},
   "outputs": [],
   "source": []
  },
  {
   "cell_type": "code",
   "execution_count": 9,
   "metadata": {},
   "outputs": [
    {
     "data": {
      "text/plain": [
       "dict_keys(['output', '135', '136', '196', '197', '/Unsqueeze_output_0', '/Constant_output_0', '/Reshape_output_0', '/conv_dw/Conv_output_0', '/conv_pw/Conv_output_0', '/relu/Relu_output_0', '/pool/MaxPool_output_0', '/sep1_dw/Conv_output_0', '/sep1_pw/Conv_output_0', '/Constant_1_output_0', '/Shape_output_0', '/Gather_output_0', '/Constant_2_output_0', '/Equal_output_0', '/If_output_0', '/relu_1/Relu_output_0', '/Unsqueeze_1_output_0', '/sep2_dw/Conv_output_0', '/sep2_pw/Conv_output_0', '/Constant_3_output_0', '/Shape_1_output_0', '/Gather_1_output_0', '/Constant_4_output_0', '/Equal_1_output_0', '/If_1_output_0', '/relu_2/Relu_output_0', '/Transpose_output_0', '/Shape_2_output_0', '/Constant_5_output_0', '/Gather_2_output_0', '/Shape_3_output_0', '/Constant_6_output_0', '/Gather_3_output_0', '/Shape_4_output_0', '/Constant_7_output_0', '/Gather_4_output_0', '/Mul_output_0', '/Unsqueeze_2_output_0', '/Constant_8_output_0', '/Unsqueeze_3_output_0', '/Concat_output_0', '/Reshape_1_output_0', '/Unsqueeze_4_output_0', '/Unsqueeze_5_output_0', '/Unsqueeze_6_output_0', '/Unsqueeze_7_output_0', '/lstm1/LSTM_output_0', '/lstm1/Squeeze_output_0', '/lstm2/LSTM_output_0', '/lstm2/Squeeze_output_0', '/Concat_1_output_0', '/fc1/MatMul_output_0', '/fc1/Add_output_0', '/relu_3/Relu_output_0', '/fc2/MatMul_output_0', '/fc2/Add_output_0'])"
      ]
     },
     "execution_count": 9,
     "metadata": {},
     "output_type": "execute_result"
    }
   ],
   "source": [
    "model_name = \"debug_torch_model.onnx\"\n",
    "model = onnx.load(model_name)\n",
    "with open(\"pickle_input.pkl\", \"rb\") as f:\n",
    "    input_t = pickle.load(f)\n",
    "\n",
    "session = rt.InferenceSession(model_name, providers=['CPUExecutionProvider'])\n",
    "output_names = [ o.name for o in session.get_outputs()]\n",
    "raw_outputs = session.run(None, input_t)\n",
    "outputs_dict = dict(zip(output_names, raw_outputs))\n",
    "outputs_dict.keys()\n"
   ]
  },
  {
   "cell_type": "code",
   "execution_count": 8,
   "metadata": {},
   "outputs": [
    {
     "data": {
      "text/plain": [
       "dict_keys(['output_1', 'output_2', 'output_3', 'output_6', 'output_7', 'Unsqueeze__97:0', 'Unsqueeze__95:0', 'Unsqueeze__68:0', 'Unsqueeze__66:0', 'StatefulPartitionedCall/vad_model/ExpandDims:0', 'StatefulPartitionedCall/vad_model/separable_conv2d/separable_conv2d/depthwise__111:0', 'StatefulPartitionedCall/vad_model/separable_conv2d/separable_conv2d/depthwise:0', 'StatefulPartitionedCall/vad_model/separable_conv2d/BiasAdd:0', 'StatefulPartitionedCall/vad_model/separable_conv2d/Relu:0', 'StatefulPartitionedCall/vad_model/separable_conv1d/separable_conv2d/depthwise__127:0', 'StatefulPartitionedCall/vad_model/separable_conv1d/separable_conv2d/depthwise:0', 'StatefulPartitionedCall/vad_model/separable_conv1d/BiasAdd:0', 'StatefulPartitionedCall/vad_model/separable_conv1d/Squeeze:0', 'StatefulPartitionedCall/vad_model/separable_conv1d/Relu:0', 'StatefulPartitionedCall/vad_model/separable_conv1d_1/ExpandDims:0', 'StatefulPartitionedCall/vad_model/separable_conv1d_1/separable_conv2d/depthwise:0', 'StatefulPartitionedCall/vad_model/separable_conv1d_1/BiasAdd:0', 'StatefulPartitionedCall/vad_model/separable_conv1d_1/Squeeze:0', 'StatefulPartitionedCall/vad_model/separable_conv1d_1/Relu:0', 'StatefulPartitionedCall/vad_model/separable_conv1d_1/BiasAdd__147:0', 'StatefulPartitionedCall/vad_model/lstm/PartitionedCall/transpose:0', 'LSTM__73:0', 'LSTM__73:1', 'LSTM__73:2', 'Squeeze__75:0', 'StatefulPartitionedCall/vad_model/lstm/PartitionedCall/transpose_1:0', 'StatefulPartitionedCall/vad_model/lstm_2/PartitionedCall/transpose:0', 'LSTM__102:0', 'LSTM__102:1', 'LSTM__102:2', 'Squeeze__104:0', 'StatefulPartitionedCall/vad_model/lstm_2/PartitionedCall/transpose_1:0', 'StatefulPartitionedCall/vad_model/concat_1:0', 'StatefulPartitionedCall/vad_model/dense_3/Tensordot/Shape:0', 'StatefulPartitionedCall/vad_model/dense_3/Tensordot/Shape__162:0', 'StatefulPartitionedCall/vad_model/dense_3/Tensordot/GatherV2:0', 'StatefulPartitionedCall/vad_model/dense_3/Tensordot/concat_1:0', 'StatefulPartitionedCall/vad_model/dense_3/Tensordot__167:0', 'StatefulPartitionedCall/vad_model/dense_3/Tensordot/Reshape:0', 'StatefulPartitionedCall/vad_model/dense_3/Tensordot/MatMul:0', 'StatefulPartitionedCall/vad_model/dense_3/Tensordot:0', 'StatefulPartitionedCall/vad_model/dense_3/BiasAdd:0', 'StatefulPartitionedCall/vad_model/dense_3/Relu:0', 'StatefulPartitionedCall/vad_model/dense_5/Tensordot/Shape:0', 'StatefulPartitionedCall/vad_model/dense_5/Tensordot/Shape__168:0', 'StatefulPartitionedCall/vad_model/dense_5/Tensordot/GatherV2:0', 'StatefulPartitionedCall/vad_model/dense_5/Tensordot/concat_1:0', 'StatefulPartitionedCall/vad_model/dense_5/Tensordot__173:0', 'StatefulPartitionedCall/vad_model/dense_5/Tensordot/Reshape:0', 'StatefulPartitionedCall/vad_model/dense_5/Tensordot/MatMul:0', 'StatefulPartitionedCall/vad_model/dense_5/Tensordot:0', 'StatefulPartitionedCall/vad_model/concat_2:0'])"
      ]
     },
     "execution_count": 8,
     "metadata": {},
     "output_type": "execute_result"
    }
   ],
   "source": [
    "model_name = \"debug_onnx_model.onnx\"\n",
    "model = onnx.load(model_name)\n",
    "with open(\"pickle_input.pkl\", \"rb\") as f:\n",
    "    input_t = pickle.load(f)\n",
    "\n",
    "session2 = rt.InferenceSession(model_name, providers=['CPUExecutionProvider'])\n",
    "output_names2 = [ o.name for o in session2.get_outputs()]\n",
    "raw_outputs2 = session2.run(None, input_t)\n",
    "outputs_dict2 = dict(zip(output_names2, raw_outputs2))\n",
    "outputs_dict2.keys()"
   ]
  },
  {
   "cell_type": "code",
   "execution_count": 11,
   "metadata": {},
   "outputs": [
    {
     "data": {
      "text/plain": [
       "(1, 1, 1, 39)"
      ]
     },
     "execution_count": 11,
     "metadata": {},
     "output_type": "execute_result"
    }
   ],
   "source": [
    "onnx_ouput=outputs_dict2['StatefulPartitionedCall/vad_model/separable_conv2d/separable_conv2d/depthwise:0'].shape\n",
    "torch_output=outputs_dict['/conv_dw/Conv_output_0'].shape\n"
   ]
  },
  {
   "cell_type": "code",
   "execution_count": null,
   "metadata": {},
   "outputs": [],
   "source": []
  }
 ],
 "metadata": {
  "kernelspec": {
   "display_name": "Python 3",
   "language": "python",
   "name": "python3"
  },
  "language_info": {
   "codemirror_mode": {
    "name": "ipython",
    "version": 3
   },
   "file_extension": ".py",
   "mimetype": "text/x-python",
   "name": "python",
   "nbconvert_exporter": "python",
   "pygments_lexer": "ipython3",
   "version": "3.11.9"
  }
 },
 "nbformat": 4,
 "nbformat_minor": 2
}
